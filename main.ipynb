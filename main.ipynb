{
 "cells": [
  {
   "cell_type": "code",
   "execution_count": 1,
   "id": "da54cd91",
   "metadata": {},
   "outputs": [],
   "source": [
    "from bs4 import BeautifulSoup\n",
    "import pandas as pd\n",
    "import requests"
   ]
  },
  {
   "cell_type": "code",
   "execution_count": 25,
   "id": "0c187b97",
   "metadata": {},
   "outputs": [
    {
     "name": "stdout",
     "output_type": "stream",
     "text": [
      "“The world as we have created it is a process of our thinking. It cannot be changed without changing our thinking.” \n",
      "  author: Albert Einstein \n",
      "\n",
      " tags:['change', 'deep-thoughts', 'thinking', 'world']\n",
      "“It is our choices, Harry, that show what we truly are, far more than our abilities.” \n",
      "  author: J.K. Rowling \n",
      "\n",
      " tags:['abilities', 'choices']\n",
      "“There are only two ways to live your life. One is as though nothing is a miracle. The other is as though everything is a miracle.” \n",
      "  author: Albert Einstein \n",
      "\n",
      " tags:['inspirational', 'life', 'live', 'miracle', 'miracles']\n",
      "“The person, be it gentleman or lady, who has not pleasure in a good novel, must be intolerably stupid.” \n",
      "  author: Jane Austen \n",
      "\n",
      " tags:['aliteracy', 'books', 'classic', 'humor']\n",
      "“Imperfection is beauty, madness is genius and it's better to be absolutely ridiculous than absolutely boring.” \n",
      "  author: Marilyn Monroe \n",
      "\n",
      " tags:['be-yourself', 'inspirational']\n",
      "“Try not to become a man of success. Rather become a man of value.” \n",
      "  author: Albert Einstein \n",
      "\n",
      " tags:['adulthood', 'success', 'value']\n",
      "“It is better to be hated for what you are than to be loved for what you are not.” \n",
      "  author: André Gide \n",
      "\n",
      " tags:['life', 'love']\n",
      "“I have not failed. I've just found 10,000 ways that won't work.” \n",
      "  author: Thomas A. Edison \n",
      "\n",
      " tags:['edison', 'failure', 'inspirational', 'paraphrased']\n",
      "“A woman is like a tea bag; you never know how strong it is until it's in hot water.” \n",
      "  author: Eleanor Roosevelt \n",
      "\n",
      " tags:['misattributed-eleanor-roosevelt']\n",
      "“A day without sunshine is like, you know, night.” \n",
      "  author: Steve Martin \n",
      "\n",
      " tags:['humor', 'obvious', 'simile']\n"
     ]
    }
   ],
   "source": [
    "url = 'https://quotes.toscrape.com'\n",
    "r = requests.get(url)\n",
    "\n",
    "if r.status_code == 200:\n",
    "    soup = BeautifulSoup(r.content, 'html.parser')\n",
    "    \n",
    "    body = soup.body\n",
    "    \n",
    "    for quote in soup.find_all('div',class_='quote'):\n",
    " \n",
    "        text = quote.find('span', class_='text').text\n",
    "        author = quote.find('small', class_='author').text\n",
    "        tags = quote.find('div',class_='tags')\n",
    "        alltags = []\n",
    "        for ntag in tags.find_all('a'):\n",
    "            alltags.append(ntag.text)\n",
    "        print(f'{text} \\n  author: {author} \\n\\n tags:{alltags}')\n",
    "    # print('successfully scraped',quote_div)\n",
    "else:\n",
    "    print(r)"
   ]
  },
  {
   "cell_type": "code",
   "execution_count": null,
   "id": "0efd2ced",
   "metadata": {},
   "outputs": [],
   "source": []
  }
 ],
 "metadata": {
  "kernelspec": {
   "display_name": "venv",
   "language": "python",
   "name": "python3"
  },
  "language_info": {
   "codemirror_mode": {
    "name": "ipython",
    "version": 3
   },
   "file_extension": ".py",
   "mimetype": "text/x-python",
   "name": "python",
   "nbconvert_exporter": "python",
   "pygments_lexer": "ipython3",
   "version": "3.8.20"
  }
 },
 "nbformat": 4,
 "nbformat_minor": 5
}
