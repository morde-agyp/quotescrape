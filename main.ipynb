{
 "cells": [
  {
   "cell_type": "code",
   "execution_count": 1,
   "id": "da54cd91",
   "metadata": {},
   "outputs": [],
   "source": [
    "from bs4 import BeautifulSoup\n",
    "import pandas as pd\n",
    "import requests"
   ]
  },
  {
   "cell_type": "code",
   "execution_count": 44,
   "id": "0c187b97",
   "metadata": {},
   "outputs": [
    {
     "name": "stdout",
     "output_type": "stream",
     "text": [
      "[{'Author': 'Albert Einstein', 'Quote': '“The world as we have created it is a process of our thinking. It cannot be changed without changing our thinking.”', 'tags': ['change', 'deep-thoughts', 'thinking', 'world']}, {'Author': 'J.K. Rowling', 'Quote': '“It is our choices, Harry, that show what we truly are, far more than our abilities.”', 'tags': ['abilities', 'choices']}, {'Author': 'Albert Einstein', 'Quote': '“There are only two ways to live your life. One is as though nothing is a miracle. The other is as though everything is a miracle.”', 'tags': ['inspirational', 'life', 'live', 'miracle', 'miracles']}, {'Author': 'Jane Austen', 'Quote': '“The person, be it gentleman or lady, who has not pleasure in a good novel, must be intolerably stupid.”', 'tags': ['aliteracy', 'books', 'classic', 'humor']}, {'Author': 'Marilyn Monroe', 'Quote': \"“Imperfection is beauty, madness is genius and it's better to be absolutely ridiculous than absolutely boring.”\", 'tags': ['be-yourself', 'inspirational']}, {'Author': 'Albert Einstein', 'Quote': '“Try not to become a man of success. Rather become a man of value.”', 'tags': ['adulthood', 'success', 'value']}, {'Author': 'André Gide', 'Quote': '“It is better to be hated for what you are than to be loved for what you are not.”', 'tags': ['life', 'love']}, {'Author': 'Thomas A. Edison', 'Quote': \"“I have not failed. I've just found 10,000 ways that won't work.”\", 'tags': ['edison', 'failure', 'inspirational', 'paraphrased']}, {'Author': 'Eleanor Roosevelt', 'Quote': \"“A woman is like a tea bag; you never know how strong it is until it's in hot water.”\", 'tags': ['misattributed-eleanor-roosevelt']}, {'Author': 'Steve Martin', 'Quote': '“A day without sunshine is like, you know, night.”', 'tags': ['humor', 'obvious', 'simile']}, {'Author': 'Marilyn Monroe', 'Quote': \"“This life is what you make it. No matter what, you're going to mess up sometimes, it's a universal truth. But the good part is you get to decide how you're going to mess it up. Girls will be your friends - they'll act like it anyway. But just remember, some come, some go. The ones that stay with you through everything - they're your true best friends. Don't let go of them. Also remember, sisters make the best friends in the world. As for lovers, well, they'll come and go too. And baby, I hate to say it, most of them - actually pretty much all of them are going to break your heart, but you can't give up because if you give up, you'll never find your soulmate. You'll never find that half who makes you whole and that goes for everything. Just because you fail once, doesn't mean you're gonna fail at everything. Keep trying, hold on, and always, always, always believe in yourself, because if you don't, then who will, sweetie? So keep your head high, keep your chin up, and most importantly, keep smiling, because life's a beautiful thing and there's so much to smile about.”\", 'tags': ['friends', 'heartbreak', 'inspirational', 'life', 'love', 'sisters']}, {'Author': 'J.K. Rowling', 'Quote': '“It takes a great deal of bravery to stand up to our enemies, but just as much to stand up to our friends.”', 'tags': ['courage', 'friends']}, {'Author': 'Albert Einstein', 'Quote': \"“If you can't explain it to a six year old, you don't understand it yourself.”\", 'tags': ['simplicity', 'understand']}, {'Author': 'Bob Marley', 'Quote': \"“You may not be her first, her last, or her only. She loved before she may love again. But if she loves you now, what else matters? She's not perfect—you aren't either, and the two of you may never be perfect together but if she can make you laugh, cause you to think twice, and admit to being human and making mistakes, hold onto her and give her the most you can. She may not be thinking about you every second of the day, but she will give you a part of her that she knows you can break—her heart. So don't hurt her, don't change her, don't analyze and don't expect more than she can give. Smile when she makes you happy, let her know when she makes you mad, and miss her when she's not there.”\", 'tags': ['love']}, {'Author': 'Dr. Seuss', 'Quote': '“I like nonsense, it wakes up the brain cells. Fantasy is a necessary ingredient in living.”', 'tags': ['fantasy']}, {'Author': 'Douglas Adams', 'Quote': '“I may not have gone where I intended to go, but I think I have ended up where I needed to be.”', 'tags': ['life', 'navigation']}, {'Author': 'Elie Wiesel', 'Quote': \"“The opposite of love is not hate, it's indifference. The opposite of art is not ugliness, it's indifference. The opposite of faith is not heresy, it's indifference. And the opposite of life is not death, it's indifference.”\", 'tags': ['activism', 'apathy', 'hate', 'indifference', 'inspirational', 'love', 'opposite', 'philosophy']}, {'Author': 'Friedrich Nietzsche', 'Quote': '“It is not a lack of love, but a lack of friendship that makes unhappy marriages.”', 'tags': ['friendship', 'lack-of-friendship', 'lack-of-love', 'love', 'marriage', 'unhappy-marriage']}, {'Author': 'Mark Twain', 'Quote': '“Good friends, good books, and a sleepy conscience: this is the ideal life.”', 'tags': ['books', 'contentment', 'friends', 'friendship', 'life']}, {'Author': 'Allen Saunders', 'Quote': '“Life is what happens to us while we are making other plans.”', 'tags': ['fate', 'life', 'misattributed-john-lennon', 'planning', 'plans']}, {'Author': 'Pablo Neruda', 'Quote': '“I love you without knowing how, or when, or from where. I love you simply, without problems or pride: I love you in this way because I do not know any other way of loving but this, in which there is no I or you, so intimate that your hand upon my chest is my hand, so intimate that when I fall asleep your eyes close.”', 'tags': ['love', 'poetry']}, {'Author': 'Ralph Waldo Emerson', 'Quote': '“For every minute you are angry you lose sixty seconds of happiness.”', 'tags': ['happiness']}, {'Author': 'Mother Teresa', 'Quote': '“If you judge people, you have no time to love them.”', 'tags': ['attributed-no-source']}, {'Author': 'Garrison Keillor', 'Quote': '“Anyone who thinks sitting in church can make you a Christian must also think that sitting in a garage can make you a car.”', 'tags': ['humor', 'religion']}, {'Author': 'Jim Henson', 'Quote': '“Beauty is in the eye of the beholder and it may be necessary from time to time to give a stupid or misinformed beholder a black eye.”', 'tags': ['humor']}, {'Author': 'Dr. Seuss', 'Quote': '“Today you are You, that is truer than true. There is no one alive who is Youer than You.”', 'tags': ['comedy', 'life', 'yourself']}, {'Author': 'Albert Einstein', 'Quote': '“If you want your children to be intelligent, read them fairy tales. If you want them to be more intelligent, read them more fairy tales.”', 'tags': ['children', 'fairy-tales']}, {'Author': 'J.K. Rowling', 'Quote': '“It is impossible to live without failing at something, unless you live so cautiously that you might as well not have lived at all - in which case, you fail by default.”', 'tags': []}, {'Author': 'Albert Einstein', 'Quote': '“Logic will get you from A to Z; imagination will get you everywhere.”', 'tags': ['imagination']}, {'Author': 'Bob Marley', 'Quote': '“One good thing about music, when it hits you, you feel no pain.”', 'tags': ['music']}, {'Author': 'Dr. Seuss', 'Quote': \"“The more that you read, the more things you will know. The more that you learn, the more places you'll go.”\", 'tags': ['learning', 'reading', 'seuss']}, {'Author': 'J.K. Rowling', 'Quote': '“Of course it is happening inside your head, Harry, but why on earth should that mean that it is not real?”', 'tags': ['dumbledore']}, {'Author': 'Bob Marley', 'Quote': '“The truth is, everyone is going to hurt you. You just got to find the ones worth suffering for.”', 'tags': ['friendship']}, {'Author': 'Mother Teresa', 'Quote': '“Not all of us can do great things. But we can do small things with great love.”', 'tags': ['misattributed-to-mother-teresa', 'paraphrased']}, {'Author': 'J.K. Rowling', 'Quote': '“To the well-organized mind, death is but the next great adventure.”', 'tags': ['death', 'inspirational']}, {'Author': 'Charles M. Schulz', 'Quote': \"“All you need is love. But a little chocolate now and then doesn't hurt.”\", 'tags': ['chocolate', 'food', 'humor']}, {'Author': 'William Nicholson', 'Quote': \"“We read to know we're not alone.”\", 'tags': ['misattributed-to-c-s-lewis', 'reading']}, {'Author': 'Albert Einstein', 'Quote': '“Any fool can know. The point is to understand.”', 'tags': ['knowledge', 'learning', 'understanding', 'wisdom']}, {'Author': 'Jorge Luis Borges', 'Quote': '“I have always imagined that Paradise will be a kind of library.”', 'tags': ['books', 'library']}, {'Author': 'George Eliot', 'Quote': '“It is never too late to be what you might have been.”', 'tags': ['inspirational']}, {'Author': 'George R.R. Martin', 'Quote': '“A reader lives a thousand lives before he dies, said Jojen. The man who never reads lives only one.”', 'tags': ['read', 'readers', 'reading', 'reading-books']}, {'Author': 'C.S. Lewis', 'Quote': '“You can never get a cup of tea large enough or a book long enough to suit me.”', 'tags': ['books', 'inspirational', 'reading', 'tea']}, {'Author': 'Marilyn Monroe', 'Quote': '“You believe lies so you eventually learn to trust no one but yourself.”', 'tags': []}, {'Author': 'Marilyn Monroe', 'Quote': '“If you can make a woman laugh, you can make her do anything.”', 'tags': ['girls', 'love']}, {'Author': 'Albert Einstein', 'Quote': '“Life is like riding a bicycle. To keep your balance, you must keep moving.”', 'tags': ['life', 'simile']}, {'Author': 'Marilyn Monroe', 'Quote': '“The real lover is the man who can thrill you by kissing your forehead or smiling into your eyes or just staring into space.”', 'tags': ['love']}, {'Author': 'Marilyn Monroe', 'Quote': \"“A wise girl kisses but doesn't love, listens but doesn't believe, and leaves before she is left.”\", 'tags': ['attributed-no-source']}, {'Author': 'Martin Luther King Jr.', 'Quote': '“Only in the darkness can you see the stars.”', 'tags': ['hope', 'inspirational']}, {'Author': 'J.K. Rowling', 'Quote': '“It matters not what someone is born, but what they grow to be.”', 'tags': ['dumbledore']}, {'Author': 'James Baldwin', 'Quote': '“Love does not begin and end the way we seem to think it does. Love is a battle, love is a war; love is a growing up.”', 'tags': ['love']}, {'Author': 'Jane Austen', 'Quote': '“There is nothing I would not do for those who are really my friends. I have no notion of loving people by halves, it is not my nature.”', 'tags': ['friendship', 'love']}, {'Author': 'Eleanor Roosevelt', 'Quote': '“Do one thing every day that scares you.”', 'tags': ['attributed', 'fear', 'inspiration']}, {'Author': 'Marilyn Monroe', 'Quote': '“I am good, but not an angel. I do sin, but I am not the devil. I am just a small girl in a big world trying to find someone to love.”', 'tags': ['attributed-no-source']}, {'Author': 'Albert Einstein', 'Quote': '“If I were not a physicist, I would probably be a musician. I often think in music. I live my daydreams in music. I see my life in terms of music.”', 'tags': ['music']}, {'Author': 'Haruki Murakami', 'Quote': '“If you only read the books that everyone else is reading, you can only think what everyone else is thinking.”', 'tags': ['books', 'thought']}, {'Author': 'Alexandre Dumas fils', 'Quote': '“The difference between genius and stupidity is: genius has its limits.”', 'tags': ['misattributed-to-einstein']}, {'Author': 'Stephenie Meyer', 'Quote': \"“He's like a drug for you, Bella.”\", 'tags': ['drug', 'romance', 'simile']}, {'Author': 'Ernest Hemingway', 'Quote': '“There is no friend as loyal as a book.”', 'tags': ['books', 'friends', 'novelist-quotes']}, {'Author': 'Helen Keller', 'Quote': '“When one door of happiness closes, another opens; but often we look so long at the closed door that we do not see the one which has been opened for us.”', 'tags': ['inspirational']}, {'Author': 'George Bernard Shaw', 'Quote': \"“Life isn't about finding yourself. Life is about creating yourself.”\", 'tags': ['inspirational', 'life', 'yourself']}, {'Author': 'Charles Bukowski', 'Quote': \"“That's the problem with drinking, I thought, as I poured myself a drink. If something bad happens you drink in an attempt to forget; if something good happens you drink in order to celebrate; and if nothing happens you drink to make something happen.”\", 'tags': ['alcohol']}, {'Author': 'Suzanne Collins', 'Quote': '“You don’t forget the face of the person who was your last hope.”', 'tags': ['the-hunger-games']}, {'Author': 'Suzanne Collins', 'Quote': \"“Remember, we're madly in love, so it's all right to kiss me anytime you feel like it.”\", 'tags': ['humor']}, {'Author': 'C.S. Lewis', 'Quote': '“To love at all is to be vulnerable. Love anything and your heart will be wrung and possibly broken. If you want to make sure of keeping it intact you must give it to no one, not even an animal. Wrap it carefully round with hobbies and little luxuries; avoid all entanglements. Lock it up safe in the casket or coffin of your selfishness. But in that casket, safe, dark, motionless, airless, it will change. It will not be broken; it will become unbreakable, impenetrable, irredeemable. To love is to be vulnerable.”', 'tags': ['love']}, {'Author': 'J.R.R. Tolkien', 'Quote': '“Not all those who wander are lost.”', 'tags': ['bilbo', 'journey', 'lost', 'quest', 'travel', 'wander']}, {'Author': 'J.K. Rowling', 'Quote': '“Do not pity the dead, Harry. Pity the living, and, above all those who live without love.”', 'tags': ['live-death-love']}, {'Author': 'Ernest Hemingway', 'Quote': '“There is nothing to writing. All you do is sit down at a typewriter and bleed.”', 'tags': ['good', 'writing']}, {'Author': 'Ralph Waldo Emerson', 'Quote': '“Finish each day and be done with it. You have done what you could. Some blunders and absurdities no doubt crept in; forget them as soon as you can. Tomorrow is a new day. You shall begin it serenely and with too high a spirit to be encumbered with your old nonsense.”', 'tags': ['life', 'regrets']}, {'Author': 'Mark Twain', 'Quote': '“I have never let my schooling interfere with my education.”', 'tags': ['education']}, {'Author': 'Dr. Seuss', 'Quote': \"“I have heard there are troubles of more than one kind. Some come from ahead and some come from behind. But I've bought a big bat. I'm all ready you see. Now my troubles are going to have troubles with me!”\", 'tags': ['troubles']}, {'Author': 'Alfred Tennyson', 'Quote': '“If I had a flower for every time I thought of you...I could walk through my garden forever.”', 'tags': ['friendship', 'love']}, {'Author': 'Charles Bukowski', 'Quote': '“Some people never go crazy. What truly horrible lives they must lead.”', 'tags': ['humor']}, {'Author': 'Terry Pratchett', 'Quote': '“The trouble with having an open mind, of course, is that people will insist on coming along and trying to put things in it.”', 'tags': ['humor', 'open-mind', 'thinking']}, {'Author': 'Dr. Seuss', 'Quote': '“Think left and think right and think low and think high. Oh, the thinks you can think up if only you try!”', 'tags': ['humor', 'philosophy']}, {'Author': 'J.D. Salinger', 'Quote': \"“What really knocks me out is a book that, when you're all done reading it, you wish the author that wrote it was a terrific friend of yours and you could call him up on the phone whenever you felt like it. That doesn't happen much, though.”\", 'tags': ['authors', 'books', 'literature', 'reading', 'writing']}, {'Author': 'George Carlin', 'Quote': '“The reason I talk to myself is because I’m the only one whose answers I accept.”', 'tags': ['humor', 'insanity', 'lies', 'lying', 'self-indulgence', 'truth']}, {'Author': 'John Lennon', 'Quote': \"“You may say I'm a dreamer, but I'm not the only one. I hope someday you'll join us. And the world will live as one.”\", 'tags': ['beatles', 'connection', 'dreamers', 'dreaming', 'dreams', 'hope', 'inspirational', 'peace']}, {'Author': 'W.C. Fields', 'Quote': '“I am free of all prejudice. I hate everyone equally. ”', 'tags': ['humor', 'sinister']}, {'Author': 'Ayn Rand', 'Quote': \"“The question isn't who is going to let me; it's who is going to stop me.”\", 'tags': []}, {'Author': 'Mark Twain', 'Quote': \"“′Classic′ - a book which people praise and don't read.”\", 'tags': ['books', 'classic', 'reading']}, {'Author': 'Albert Einstein', 'Quote': '“Anyone who has never made a mistake has never tried anything new.”', 'tags': ['mistakes']}, {'Author': 'Jane Austen', 'Quote': \"“A lady's imagination is very rapid; it jumps from admiration to love, from love to matrimony in a moment.”\", 'tags': ['humor', 'love', 'romantic', 'women']}, {'Author': 'J.K. Rowling', 'Quote': '“Remember, if the time should come when you have to make a choice between what is right and what is easy, remember what happened to a boy who was good, and kind, and brave, because he strayed across the path of Lord Voldemort. Remember Cedric Diggory.”', 'tags': ['integrity']}, {'Author': 'Jane Austen', 'Quote': '“I declare after all there is no enjoyment like reading! How much sooner one tires of any thing than of a book! -- When I have a house of my own, I shall be miserable if I have not an excellent library.”', 'tags': ['books', 'library', 'reading']}, {'Author': 'Jane Austen', 'Quote': '“There are few people whom I really love, and still fewer of whom I think well. The more I see of the world, the more am I dissatisfied with it; and every day confirms my belief of the inconsistency of all human characters, and of the little dependence that can be placed on the appearance of merit or sense.”', 'tags': ['elizabeth-bennet', 'jane-austen']}, {'Author': 'C.S. Lewis', 'Quote': '“Some day you will be old enough to start reading fairy tales again.”', 'tags': ['age', 'fairytales', 'growing-up']}, {'Author': 'C.S. Lewis', 'Quote': '“We are not necessarily doubting that God will do the best for us; we are wondering how painful the best will turn out to be.”', 'tags': ['god']}, {'Author': 'Mark Twain', 'Quote': '“The fear of death follows from the fear of life. A man who lives fully is prepared to die at any time.”', 'tags': ['death', 'life']}, {'Author': 'Mark Twain', 'Quote': '“A lie can travel half way around the world while the truth is putting on its shoes.”', 'tags': ['misattributed-mark-twain', 'truth']}, {'Author': 'C.S. Lewis', 'Quote': '“I believe in Christianity as I believe that the sun has risen: not only because I see it, but because by it I see everything else.”', 'tags': ['christianity', 'faith', 'religion', 'sun']}, {'Author': 'J.K. Rowling', 'Quote': '“The truth.\" Dumbledore sighed. \"It is a beautiful and terrible thing, and should therefore be treated with great caution.”', 'tags': ['truth']}, {'Author': 'Jimi Hendrix', 'Quote': \"“I'm the one that's got to die when it's time for me to die, so let me live my life the way I want to.”\", 'tags': ['death', 'life']}, {'Author': 'J.M. Barrie', 'Quote': '“To die will be an awfully big adventure.”', 'tags': ['adventure', 'love']}, {'Author': 'E.E. Cummings', 'Quote': '“It takes courage to grow up and become who you really are.”', 'tags': ['courage']}, {'Author': 'Khaled Hosseini', 'Quote': '“But better to get hurt by the truth than comforted with a lie.”', 'tags': ['life']}, {'Author': 'Harper Lee', 'Quote': '“You never really understand a person until you consider things from his point of view... Until you climb inside of his skin and walk around in it.”', 'tags': ['better-life-empathy']}, {'Author': \"Madeleine L'Engle\", 'Quote': '“You have to write the book that wants to be written. And if the book will be too difficult for grown-ups, then you write it for children.”', 'tags': ['books', 'children', 'difficult', 'grown-ups', 'write', 'writers', 'writing']}, {'Author': 'Mark Twain', 'Quote': '“Never tell the truth to people who are not worthy of it.”', 'tags': ['truth']}, {'Author': 'Dr. Seuss', 'Quote': \"“A person's a person, no matter how small.”\", 'tags': ['inspirational']}, {'Author': 'George R.R. Martin', 'Quote': '“... a mind needs books as a sword needs a whetstone, if it is to keep its edge.”', 'tags': ['books', 'mind']}]\n"
     ]
    }
   ],
   "source": [
    "base_url = 'https://quotes.toscrape.com'\n",
    "pg_nm = 1\n",
    "newlist = []\n",
    "  # start from page 1\n",
    "\n",
    "while pg_nm < 11:\n",
    "    url = '/page/{0}/'.format(pg_nm)\n",
    "    # print(base_url + url)\n",
    "    new_url = base_url + url\n",
    "    r = requests.get(new_url)\n",
    "    if r.status_code == 200:\n",
    "        soup = BeautifulSoup(r.content, 'html.parser')\n",
    "        \n",
    "        for quotes in soup.find_all('div',class_='quote'):\n",
    "    \n",
    "            quote = quotes.find('span', class_='text').text\n",
    "            author = quotes.find('small', class_='author').text\n",
    "            tags = quotes.find('div',class_='tags')\n",
    "\n",
    "            alltags = []\n",
    "            for ntag in tags.find_all('a'):\n",
    "                alltags.append(ntag.text)\n",
    "\n",
    "            data = {\n",
    "                'Author':author,\n",
    "                'Quote':quote,\n",
    "                'tags':alltags\n",
    "            }\n",
    "            newlist.append(data)\n",
    "\n",
    "    else:\n",
    "        print(r)\n",
    "    pg_nm +=1\n",
    "\n",
    "print(newlist)\n"
   ]
  },
  {
   "cell_type": "code",
   "execution_count": 46,
   "id": "0efd2ced",
   "metadata": {},
   "outputs": [
    {
     "name": "stdout",
     "output_type": "stream",
     "text": [
      "<class 'pandas.core.frame.DataFrame'>\n",
      "RangeIndex: 100 entries, 0 to 99\n",
      "Data columns (total 3 columns):\n",
      " #   Column  Non-Null Count  Dtype \n",
      "---  ------  --------------  ----- \n",
      " 0   Author  100 non-null    object\n",
      " 1   Quote   100 non-null    object\n",
      " 2   tags    100 non-null    object\n",
      "dtypes: object(3)\n",
      "memory usage: 2.5+ KB\n"
     ]
    }
   ],
   "source": [
    "df = pd.DataFrame(newlist)\n",
    "df.info()"
   ]
  },
  {
   "cell_type": "code",
   "execution_count": null,
   "id": "a6eabe7c",
   "metadata": {},
   "outputs": [],
   "source": []
  }
 ],
 "metadata": {
  "kernelspec": {
   "display_name": "venv",
   "language": "python",
   "name": "python3"
  },
  "language_info": {
   "codemirror_mode": {
    "name": "ipython",
    "version": 3
   },
   "file_extension": ".py",
   "mimetype": "text/x-python",
   "name": "python",
   "nbconvert_exporter": "python",
   "pygments_lexer": "ipython3",
   "version": "3.8.20"
  }
 },
 "nbformat": 4,
 "nbformat_minor": 5
}
